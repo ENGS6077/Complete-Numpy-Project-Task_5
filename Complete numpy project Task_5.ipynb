{
 "cells": [
  {
   "cell_type": "code",
   "execution_count": 2,
   "id": "588f4349-ebc5-4369-ba51-cbd047775fe1",
   "metadata": {},
   "outputs": [],
   "source": [
    "import numpy as np"
   ]
  },
  {
   "cell_type": "markdown",
   "id": "a9fb02ca-5b7c-472f-b7cc-91713d4bdda6",
   "metadata": {},
   "source": [
    "# Numpy Array Creation"
   ]
  },
  {
   "cell_type": "code",
   "execution_count": 4,
   "id": "1d287333-c00d-4289-957f-075a01589e70",
   "metadata": {},
   "outputs": [
    {
     "data": {
      "text/plain": [
       "[10, 20, 30, 40, 50, 60]"
      ]
     },
     "execution_count": 4,
     "metadata": {},
     "output_type": "execute_result"
    }
   ],
   "source": [
    "list1=[10,20,30,40,50,60]\n",
    "list1"
   ]
  },
  {
   "cell_type": "code",
   "execution_count": 5,
   "id": "158f76ad-a56e-4a92-a09a-31760d528952",
   "metadata": {},
   "outputs": [
    {
     "data": {
      "text/plain": [
       "list"
      ]
     },
     "execution_count": 5,
     "metadata": {},
     "output_type": "execute_result"
    }
   ],
   "source": [
    "type(list1)"
   ]
  },
  {
   "cell_type": "code",
   "execution_count": 7,
   "id": "4f7c6fe2-d0ed-4c0e-b1ba-954f6755c19d",
   "metadata": {},
   "outputs": [
    {
     "data": {
      "text/plain": [
       "array([10, 20, 30, 40, 50, 60])"
      ]
     },
     "execution_count": 7,
     "metadata": {},
     "output_type": "execute_result"
    }
   ],
   "source": [
    "arr1=np.array(list1)\n",
    "arr1"
   ]
  },
  {
   "cell_type": "code",
   "execution_count": 8,
   "id": "91de3754-2574-4500-a5a3-5c4a138be12a",
   "metadata": {},
   "outputs": [
    {
     "data": {
      "text/plain": [
       "<memory at 0x00000212F2F75B40>"
      ]
     },
     "execution_count": 8,
     "metadata": {},
     "output_type": "execute_result"
    }
   ],
   "source": [
    "arr1.data\n",
    "# Memory address of an array object"
   ]
  },
  {
   "cell_type": "code",
   "execution_count": 9,
   "id": "e305d294-fe9b-498b-bf91-3a9a38a73a34",
   "metadata": {},
   "outputs": [
    {
     "data": {
      "text/plain": [
       "numpy.ndarray"
      ]
     },
     "execution_count": 9,
     "metadata": {},
     "output_type": "execute_result"
    }
   ],
   "source": [
    "type(arr1)"
   ]
  },
  {
   "cell_type": "code",
   "execution_count": 10,
   "id": "93fe843a-4fca-4a58-bfe4-fc11a6780025",
   "metadata": {},
   "outputs": [
    {
     "data": {
      "text/plain": [
       "dtype('int32')"
      ]
     },
     "execution_count": 10,
     "metadata": {},
     "output_type": "execute_result"
    }
   ],
   "source": [
    "arr1.dtype"
   ]
  },
  {
   "cell_type": "code",
   "execution_count": 11,
   "id": "3f506914-9e69-4d73-8a7d-8544cc31eda7",
   "metadata": {},
   "outputs": [
    {
     "data": {
      "text/plain": [
       "array([10., 20., 30., 40., 50., 60.])"
      ]
     },
     "execution_count": 11,
     "metadata": {},
     "output_type": "execute_result"
    }
   ],
   "source": [
    "arr1.astype(float)\n",
    "# converts int to float"
   ]
  },
  {
   "cell_type": "code",
   "execution_count": 12,
   "id": "ebfdf233-469a-4f92-9066-84578947601f",
   "metadata": {},
   "outputs": [
    {
     "data": {
      "text/plain": [
       "array([0, 1, 2, 3, 4, 5, 6, 7, 8, 9])"
      ]
     },
     "execution_count": 12,
     "metadata": {},
     "output_type": "execute_result"
    }
   ],
   "source": [
    "np.arange(0,10)\n",
    "# Generates numbers between 0 to 10"
   ]
  },
  {
   "cell_type": "code",
   "execution_count": 15,
   "id": "7da3dae0-9ef6-4334-b97c-6df58803b3d6",
   "metadata": {},
   "outputs": [
    {
     "data": {
      "text/plain": [
       "array([ 0, 10, 20, 30, 40, 50, 60, 70, 80, 90])"
      ]
     },
     "execution_count": 15,
     "metadata": {},
     "output_type": "execute_result"
    }
   ],
   "source": [
    "np.arange(0,100,10)\n",
    "# Generates numbers between 0 to 100 with step 10"
   ]
  },
  {
   "cell_type": "code",
   "execution_count": 16,
   "id": "68cea181-e6fc-4967-90ca-44becd6d622b",
   "metadata": {},
   "outputs": [
    {
     "data": {
      "text/plain": [
       "array([100,  90,  80,  70,  60,  50,  40,  30,  20])"
      ]
     },
     "execution_count": 16,
     "metadata": {},
     "output_type": "execute_result"
    }
   ],
   "source": [
    "np.arange(100,10,-10)\n",
    "# Generates numbers between 0 to 100 with step 10 in descending order"
   ]
  },
  {
   "cell_type": "code",
   "execution_count": 18,
   "id": "37119ce8-3caf-454b-ac0f-5b7dae304251",
   "metadata": {},
   "outputs": [
    {
     "data": {
      "text/plain": [
       "(10,)"
      ]
     },
     "execution_count": 18,
     "metadata": {},
     "output_type": "execute_result"
    }
   ],
   "source": [
    "arr3=np.arange(0,10)\n",
    "arr3.shape\n",
    "# shape of array "
   ]
  },
  {
   "cell_type": "code",
   "execution_count": 19,
   "id": "651187ef-b7dc-4be0-9c41-01b857dbe88a",
   "metadata": {},
   "outputs": [
    {
     "data": {
      "text/plain": [
       "array([0, 1, 2, 3, 4, 5, 6, 7, 8, 9])"
      ]
     },
     "execution_count": 19,
     "metadata": {},
     "output_type": "execute_result"
    }
   ],
   "source": [
    "arr3"
   ]
  },
  {
   "cell_type": "code",
   "execution_count": 20,
   "id": "b425bbda-9754-42f7-bb5d-5a7c926f651f",
   "metadata": {},
   "outputs": [
    {
     "data": {
      "text/plain": [
       "10"
      ]
     },
     "execution_count": 20,
     "metadata": {},
     "output_type": "execute_result"
    }
   ],
   "source": [
    "arr3.size\n",
    "# size of array"
   ]
  },
  {
   "cell_type": "code",
   "execution_count": 21,
   "id": "021b9381-d8ad-4f2e-9187-6fc36b06eded",
   "metadata": {},
   "outputs": [
    {
     "data": {
      "text/plain": [
       "1"
      ]
     },
     "execution_count": 21,
     "metadata": {},
     "output_type": "execute_result"
    }
   ],
   "source": [
    "arr3.ndim\n",
    "# Dimension"
   ]
  },
  {
   "cell_type": "code",
   "execution_count": 22,
   "id": "becc805f-a5c1-4d58-9891-647dd9e9795b",
   "metadata": {},
   "outputs": [
    {
     "data": {
      "text/plain": [
       "dtype('int32')"
      ]
     },
     "execution_count": 22,
     "metadata": {},
     "output_type": "execute_result"
    }
   ],
   "source": [
    "arr3.dtype"
   ]
  },
  {
   "cell_type": "code",
   "execution_count": 24,
   "id": "20f958ae-0b0f-42aa-b0a8-9df6b767abeb",
   "metadata": {},
   "outputs": [
    {
     "data": {
      "text/plain": [
       "4"
      ]
     },
     "execution_count": 24,
     "metadata": {},
     "output_type": "execute_result"
    }
   ],
   "source": [
    "arr3.itemsize\n",
    "# Bytes consumed by one element of an array object"
   ]
  },
  {
   "cell_type": "code",
   "execution_count": 25,
   "id": "731c5dbd-7ade-4b29-a078-7d2ac711b0b8",
   "metadata": {},
   "outputs": [
    {
     "data": {
      "text/plain": [
       "40"
      ]
     },
     "execution_count": 25,
     "metadata": {},
     "output_type": "execute_result"
    }
   ],
   "source": [
    "arr3.nbytes\n",
    "# Bytes consumed by an array object"
   ]
  },
  {
   "cell_type": "code",
   "execution_count": 26,
   "id": "52d598dd-783e-48cd-8282-ac916cbab3ac",
   "metadata": {},
   "outputs": [
    {
     "data": {
      "text/plain": [
       "10"
      ]
     },
     "execution_count": 26,
     "metadata": {},
     "output_type": "execute_result"
    }
   ],
   "source": [
    "len(arr3)"
   ]
  },
  {
   "cell_type": "code",
   "execution_count": 27,
   "id": "d73f4482-e64a-42d4-a48b-34c08a99526d",
   "metadata": {},
   "outputs": [
    {
     "data": {
      "text/plain": [
       "array([0., 0., 0., 0., 0., 0., 0., 0., 0., 0.])"
      ]
     },
     "execution_count": 27,
     "metadata": {},
     "output_type": "execute_result"
    }
   ],
   "source": [
    "np.zeros(10)\n",
    "# Generates an array of zeros with given size"
   ]
  },
  {
   "cell_type": "code",
   "execution_count": 28,
   "id": "9da91c57-2a3f-46f9-87f6-6a39bedecf84",
   "metadata": {},
   "outputs": [
    {
     "data": {
      "text/plain": [
       "array([1., 1., 1., 1., 1., 1., 1., 1., 1., 1.])"
      ]
     },
     "execution_count": 28,
     "metadata": {},
     "output_type": "execute_result"
    }
   ],
   "source": [
    "np.ones(10)\n",
    "# Generates an array of zeros with given size"
   ]
  },
  {
   "cell_type": "code",
   "execution_count": 29,
   "id": "38724cb9-49e9-4132-b625-2bd618bf4fa2",
   "metadata": {},
   "outputs": [
    {
     "data": {
      "text/plain": [
       "array([10, 10, 10, 10, 10])"
      ]
     },
     "execution_count": 29,
     "metadata": {},
     "output_type": "execute_result"
    }
   ],
   "source": [
    "np.repeat(10,5)\n",
    "# Repeates 10 five times an array"
   ]
  },
  {
   "cell_type": "code",
   "execution_count": 30,
   "id": "95bd606c-b641-4214-beb7-7cca38dc99af",
   "metadata": {},
   "outputs": [
    {
     "data": {
      "text/plain": [
       "array([10, 10, 10, 20, 20, 20, 30, 30, 30])"
      ]
     },
     "execution_count": 30,
     "metadata": {},
     "output_type": "execute_result"
    }
   ],
   "source": [
    "a=np.array([10,20,30])\n",
    "np.repeat(a,3)\n",
    "# Repeats each element in array 'a' thrice"
   ]
  },
  {
   "cell_type": "code",
   "execution_count": 31,
   "id": "5a800d8e-84e4-46d5-9865-b37817a7b1bb",
   "metadata": {},
   "outputs": [
    {
     "data": {
      "text/plain": [
       "array([0.6367738 , 0.40325113, 0.49929153, 0.9868328 ])"
      ]
     },
     "execution_count": 31,
     "metadata": {},
     "output_type": "execute_result"
    }
   ],
   "source": [
    "np.random.random(4)\n",
    "# creates an array of random values"
   ]
  },
  {
   "cell_type": "code",
   "execution_count": 32,
   "id": "c2ebed48-390d-4bf6-aad2-a8eac319e505",
   "metadata": {},
   "outputs": [
    {
     "data": {
      "text/plain": [
       "array([255, 219,  73, 366, 158, 302, 449, 133, 319, 208])"
      ]
     },
     "execution_count": 32,
     "metadata": {},
     "output_type": "execute_result"
    }
   ],
   "source": [
    "np.random.randint(0,500,10)"
   ]
  },
  {
   "cell_type": "markdown",
   "id": "c6c789bf-99b0-4b31-8c01-3f057a7c22c6",
   "metadata": {},
   "source": [
    "# Operations on an Array"
   ]
  },
  {
   "cell_type": "code",
   "execution_count": 37,
   "id": "87edbd1b-11bb-4ada-975b-085132963a94",
   "metadata": {},
   "outputs": [
    {
     "data": {
      "text/plain": [
       "array([ 1,  2,  3,  4,  5,  6,  7,  8,  9, 10, 11, 12, 13, 14, 15, 16, 17,\n",
       "       18, 19])"
      ]
     },
     "execution_count": 37,
     "metadata": {},
     "output_type": "execute_result"
    }
   ],
   "source": [
    "arr2=np.arange(1,20)\n",
    "arr2"
   ]
  },
  {
   "cell_type": "code",
   "execution_count": 38,
   "id": "db41fdfc-1f88-4684-9cf7-a7386dbefc5a",
   "metadata": {},
   "outputs": [
    {
     "data": {
      "text/plain": [
       "190"
      ]
     },
     "execution_count": 38,
     "metadata": {},
     "output_type": "execute_result"
    }
   ],
   "source": [
    "sum(arr2)\n",
    "# sum of all elements in an array"
   ]
  },
  {
   "cell_type": "code",
   "execution_count": 39,
   "id": "71650da9-5c9e-4e08-8df6-4029f52af409",
   "metadata": {},
   "outputs": [
    {
     "data": {
      "text/plain": [
       "array([  1,   3,   6,  10,  15,  21,  28,  36,  45,  55,  66,  78,  91,\n",
       "       105, 120, 136, 153, 171, 190])"
      ]
     },
     "execution_count": 39,
     "metadata": {},
     "output_type": "execute_result"
    }
   ],
   "source": [
    "np.cumsum(arr2)\n",
    "# cumulative sum of an array"
   ]
  },
  {
   "cell_type": "code",
   "execution_count": 40,
   "id": "c4c9d279-0135-4104-868d-75bf7cccadbd",
   "metadata": {},
   "outputs": [
    {
     "data": {
      "text/plain": [
       "1"
      ]
     },
     "execution_count": 40,
     "metadata": {},
     "output_type": "execute_result"
    }
   ],
   "source": [
    "arr2.min()\n",
    "# Minimum element in an array"
   ]
  },
  {
   "cell_type": "code",
   "execution_count": 42,
   "id": "9ae95868-f685-49c5-b6be-2c687cbcd50e",
   "metadata": {},
   "outputs": [
    {
     "data": {
      "text/plain": [
       "19"
      ]
     },
     "execution_count": 42,
     "metadata": {},
     "output_type": "execute_result"
    }
   ],
   "source": [
    "arr2.max()\n",
    "# Maximum element in the array"
   ]
  },
  {
   "cell_type": "code",
   "execution_count": 43,
   "id": "20fc1c7a-60b1-4372-bc46-830a88d24829",
   "metadata": {},
   "outputs": [
    {
     "data": {
      "text/plain": [
       "0"
      ]
     },
     "execution_count": 43,
     "metadata": {},
     "output_type": "execute_result"
    }
   ],
   "source": [
    "arr2.argmin()\n",
    "# Returns index of min element in the array"
   ]
  },
  {
   "cell_type": "code",
   "execution_count": 45,
   "id": "a5c1b727-3bd8-4601-b1da-8b0985be3e8f",
   "metadata": {},
   "outputs": [
    {
     "data": {
      "text/plain": [
       "18"
      ]
     },
     "execution_count": 45,
     "metadata": {},
     "output_type": "execute_result"
    }
   ],
   "source": [
    "arr2.argmax()\n",
    "# Returns index of min element in the array"
   ]
  },
  {
   "cell_type": "code",
   "execution_count": 46,
   "id": "ab6bb57f-4ce9-4dd8-bf04-c5d13a6c2f2a",
   "metadata": {},
   "outputs": [
    {
     "data": {
      "text/plain": [
       "10.0"
      ]
     },
     "execution_count": 46,
     "metadata": {},
     "output_type": "execute_result"
    }
   ],
   "source": [
    "arr2.mean()\n",
    "# Returns mean of all elements in the array"
   ]
  },
  {
   "cell_type": "code",
   "execution_count": 51,
   "id": "f6f10cde-649e-4e17-b89b-deb5dbed947e",
   "metadata": {},
   "outputs": [
    {
     "data": {
      "text/plain": [
       "10.0"
      ]
     },
     "execution_count": 51,
     "metadata": {},
     "output_type": "execute_result"
    }
   ],
   "source": [
    "np.median(arr2)\n",
    "# Returns median of all elements in the array"
   ]
  },
  {
   "cell_type": "code",
   "execution_count": 52,
   "id": "e780644b-a24a-403f-8c30-8606e93f9e60",
   "metadata": {},
   "outputs": [
    {
     "data": {
      "text/plain": [
       "30.0"
      ]
     },
     "execution_count": 52,
     "metadata": {},
     "output_type": "execute_result"
    }
   ],
   "source": [
    "np.var(arr2)\n",
    "# variance"
   ]
  },
  {
   "cell_type": "code",
   "execution_count": 53,
   "id": "05c2b4e6-4558-42e4-9a3b-289ad34628cc",
   "metadata": {},
   "outputs": [
    {
     "data": {
      "text/plain": [
       "5.477225575051661"
      ]
     },
     "execution_count": 53,
     "metadata": {},
     "output_type": "execute_result"
    }
   ],
   "source": [
    "np.std(arr2)\n",
    "# Standard Deviation"
   ]
  },
  {
   "cell_type": "code",
   "execution_count": 56,
   "id": "c89973b0-bb97-402a-b2a7-083b830e91b6",
   "metadata": {},
   "outputs": [
    {
     "data": {
      "text/plain": [
       "11.799999999999999"
      ]
     },
     "execution_count": 56,
     "metadata": {},
     "output_type": "execute_result"
    }
   ],
   "source": [
    "np.percentile(arr2,60)\n",
    "# Percentile"
   ]
  },
  {
   "cell_type": "markdown",
   "id": "c81c5d66-0298-46f7-965a-06136d7ff2ce",
   "metadata": {},
   "source": [
    "# Operations on 2D Array"
   ]
  },
  {
   "cell_type": "code",
   "execution_count": 57,
   "id": "d4fa0808-e416-4202-ade1-43e079c97b82",
   "metadata": {},
   "outputs": [
    {
     "data": {
      "text/plain": [
       "array([[ 1,  2,  3,  0],\n",
       "       [ 5,  6,  7, 22],\n",
       "       [10, 11,  1, 13],\n",
       "       [14, 15, 16,  3]])"
      ]
     },
     "execution_count": 57,
     "metadata": {},
     "output_type": "execute_result"
    }
   ],
   "source": [
    "A = np.array([[1,2,3,0] , [5,6,7,22] , [10 , 11 , 1 ,13] , [14,15,16,3]])\n",
    "A"
   ]
  },
  {
   "cell_type": "code",
   "execution_count": 58,
   "id": "abc2f500-00db-45e5-b1bb-6df8fc17fe7b",
   "metadata": {},
   "outputs": [
    {
     "data": {
      "text/plain": [
       "129"
      ]
     },
     "execution_count": 58,
     "metadata": {},
     "output_type": "execute_result"
    }
   ],
   "source": [
    "A.sum()\n",
    "# Sum of all elements in 2D Array"
   ]
  },
  {
   "cell_type": "code",
   "execution_count": 62,
   "id": "65a01241-bd4e-4cb5-ae55-4d855f1bb99e",
   "metadata": {},
   "outputs": [
    {
     "data": {
      "text/plain": [
       "array([1, 2, 1, 0])"
      ]
     },
     "execution_count": 62,
     "metadata": {},
     "output_type": "execute_result"
    }
   ],
   "source": [
    "np.min(A,axis=0)\n",
    "# Column wise min values"
   ]
  },
  {
   "cell_type": "code",
   "execution_count": 63,
   "id": "686c3d69-ef37-4fc0-b13c-f87fd46c5247",
   "metadata": {},
   "outputs": [
    {
     "data": {
      "text/plain": [
       "array([0, 5, 1, 3])"
      ]
     },
     "execution_count": 63,
     "metadata": {},
     "output_type": "execute_result"
    }
   ],
   "source": [
    "np.min(A,axis=1)\n",
    "# Row wise min elelments"
   ]
  },
  {
   "cell_type": "markdown",
   "id": "d9bdb63b-1513-4512-ac67-27115ee98ff9",
   "metadata": {},
   "source": [
    "# Reading elements of an array"
   ]
  },
  {
   "cell_type": "code",
   "execution_count": 66,
   "id": "080acba6-bfe9-4e7f-86d6-870b4b3209c7",
   "metadata": {},
   "outputs": [
    {
     "data": {
      "text/plain": [
       "array([7, 5, 3, 9, 0, 2])"
      ]
     },
     "execution_count": 66,
     "metadata": {},
     "output_type": "execute_result"
    }
   ],
   "source": [
    "a = np.array([7,5,3,9,0,2])\n",
    "a"
   ]
  },
  {
   "cell_type": "code",
   "execution_count": 67,
   "id": "7997a04c-8be5-4e13-8544-2982305860f6",
   "metadata": {},
   "outputs": [
    {
     "data": {
      "text/plain": [
       "7"
      ]
     },
     "execution_count": 67,
     "metadata": {},
     "output_type": "execute_result"
    }
   ],
   "source": [
    "a[0]\n",
    "# Accessing first element of array"
   ]
  },
  {
   "cell_type": "code",
   "execution_count": 68,
   "id": "a09a163b-19f2-412d-8d3d-5046ea241096",
   "metadata": {},
   "outputs": [
    {
     "data": {
      "text/plain": [
       "array([5, 3, 9, 0, 2])"
      ]
     },
     "execution_count": 68,
     "metadata": {},
     "output_type": "execute_result"
    }
   ],
   "source": [
    "a[1:]\n",
    "# Accessing all elements from index 1"
   ]
  },
  {
   "cell_type": "code",
   "execution_count": 70,
   "id": "5660b7b0-ac03-462f-bb7a-3b616f819701",
   "metadata": {},
   "outputs": [
    {
     "data": {
      "text/plain": [
       "array([5, 3, 9])"
      ]
     },
     "execution_count": 70,
     "metadata": {},
     "output_type": "execute_result"
    }
   ],
   "source": [
    "a[1:4]\n",
    "# Accessing elements from index 1 to 4"
   ]
  },
  {
   "cell_type": "code",
   "execution_count": 72,
   "id": "ae05ae7c-01cd-4102-9fef-1f979f7f8590",
   "metadata": {},
   "outputs": [
    {
     "data": {
      "text/plain": [
       "2"
      ]
     },
     "execution_count": 72,
     "metadata": {},
     "output_type": "execute_result"
    }
   ],
   "source": [
    "a[-1]\n",
    "# Accessing last element of the array"
   ]
  },
  {
   "cell_type": "code",
   "execution_count": 73,
   "id": "17e6c961-0b18-42b1-958a-b529168a2c6c",
   "metadata": {},
   "outputs": [
    {
     "data": {
      "text/plain": [
       "array([9, 0])"
      ]
     },
     "execution_count": 73,
     "metadata": {},
     "output_type": "execute_result"
    }
   ],
   "source": [
    "a[-3:-1]"
   ]
  },
  {
   "cell_type": "code",
   "execution_count": null,
   "id": "59a0f512-bd34-408a-a7fe-4f7f395730e7",
   "metadata": {},
   "outputs": [],
   "source": []
  }
 ],
 "metadata": {
  "kernelspec": {
   "display_name": "Python 3 (ipykernel)",
   "language": "python",
   "name": "python3"
  },
  "language_info": {
   "codemirror_mode": {
    "name": "ipython",
    "version": 3
   },
   "file_extension": ".py",
   "mimetype": "text/x-python",
   "name": "python",
   "nbconvert_exporter": "python",
   "pygments_lexer": "ipython3",
   "version": "3.11.7"
  }
 },
 "nbformat": 4,
 "nbformat_minor": 5
}
